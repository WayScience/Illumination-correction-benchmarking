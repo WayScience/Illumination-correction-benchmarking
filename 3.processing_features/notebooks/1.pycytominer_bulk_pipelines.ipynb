{
 "cells": [
  {
   "cell_type": "markdown",
   "id": "91a846b5-8ead-4ad8-b291-00c09a09ab0a",
   "metadata": {},
   "source": [
    "## Perform traditional bulk pycytominer pipeline\n",
    "\n",
    "Following single-cell curation with cytotable, we create bulk profiles by applying the following steps:\n",
    "\n",
    "1. aggregation\n",
    "2. annotation\n",
    "3. normalization\n",
    "4. feature_selection"
   ]
  },
  {
   "cell_type": "code",
   "execution_count": 1,
   "id": "4b02e669-6b8b-49d7-a0a0-678eff76a854",
   "metadata": {},
   "outputs": [
    {
     "name": "stderr",
     "output_type": "stream",
     "text": [
      "/home/maggiekeating/miniconda3/envs/IC_bench_4.2.6/lib/python3.9/site-packages/scipy/__init__.py:155: UserWarning: A NumPy version >=1.18.5 and <1.25.0 is required for this version of SciPy (detected version 1.26.3\n",
      "  warnings.warn(f\"A NumPy version >={np_minversion} and <{np_maxversion}\"\n"
     ]
    }
   ],
   "source": [
    "# Modified Jenna's nf1_ic.ipynb file from the Cellpainting repo\n",
    "# https://github.com/WayScience/nf1_cellpainting_data/blob/main/3.processing_features/2.pycytominer_singlecell_pipelines.ipynb\n",
    "\n",
    "import pathlib\n",
    "import yaml\n",
    "import pprint\n",
    "\n",
    "import pandas as pd\n",
    "\n",
    "from pycytominer import aggregate, annotate, normalize, feature_select\n",
    "from pycytominer.cyto_utils import load_profiles"
   ]
  },
  {
   "cell_type": "code",
   "execution_count": 2,
   "id": "609183fc-b780-4731-9a63-cbfb448d4f66",
   "metadata": {},
   "outputs": [],
   "source": [
    "# Set constants\n",
    "feature_select_ops = [\n",
    "    \"variance_threshold\",\n",
    "    \"correlation_threshold\",\n",
    "    \"blocklist\",\n",
    "]\n",
    "\n",
    "# Set paths\n",
    "output_dir = pathlib.Path(\"../outputs/bulk_profiles\")\n",
    "output_dir.mkdir(exist_ok=True)\n",
    "metadata_dir = pathlib.Path(\"../../1.run_multi_IC_pipelines/data/Metadata/platemap_NF1_plate3_sub.csv\")\n",
    "\n",
    "# load in plate information\n",
    "dictionary_path = pathlib.Path(\"../outputs/plate_info_dictionary.yaml\")\n",
    "with open(dictionary_path) as file:\n",
    "    plate_info_dictionary = yaml.load(file, Loader=yaml.FullLoader)"
   ]
  },
  {
   "cell_type": "code",
   "execution_count": 3,
   "id": "88811904-baa5-47a4-846b-d733daef1952",
   "metadata": {},
   "outputs": [
    {
     "name": "stdout",
     "output_type": "stream",
     "text": [
      "{   'IC_function_1': {   'dest_path': '../outputs/converted_data/IC_function_1.parquet',\n",
      "                         'platemap_path': '../../1.run_multi_IC_pipelines/data/Metadata/platemap_NF1_plate3_sub.csv',\n",
      "                         'source_path': '../../2.cellprofiler_analysis/outputs/SQLites/IC_function_1.sqlite'},\n",
      "    'IC_function_2': {   'dest_path': '../outputs/converted_data/IC_function_2.parquet',\n",
      "                         'platemap_path': '../../1.run_multi_IC_pipelines/data/Metadata/platemap_NF1_plate3_sub.csv',\n",
      "                         'source_path': '../../2.cellprofiler_analysis/outputs/SQLites/IC_function_2.sqlite'}}\n"
     ]
    }
   ],
   "source": [
    "# add path to platemaps for each plate \n",
    "for plate in plate_info_dictionary.keys():\n",
    "    plate_info_dictionary[plate][\"platemap_path\"] = str(pathlib.Path(metadata_dir))\n",
    "\n",
    "# view the dictionary to assess that all info is added correctly\n",
    "pprint.pprint(plate_info_dictionary, indent=4)"
   ]
  },
  {
   "cell_type": "markdown",
   "id": "9817b380-8fd5-464e-84d9-29505ae7fd41",
   "metadata": {},
   "source": [
    "## Perform pycytominer pipeline"
   ]
  },
  {
   "cell_type": "code",
   "execution_count": 4,
   "id": "cc03cbc9-3c0d-4251-a66c-a82a2f10c166",
   "metadata": {},
   "outputs": [
    {
     "name": "stdout",
     "output_type": "stream",
     "text": [
      "Now performing pycytominer pipeline for IC_function_1\n",
      "Now performing pycytominer pipeline for IC_function_2\n"
     ]
    }
   ],
   "source": [
    "for plate, info in plate_info_dictionary.items():\n",
    "    print(f\"Now performing pycytominer pipeline for {plate}\")\n",
    "    output_aggregated_file = str(pathlib.Path(f\"{output_dir}/{plate}_bulk.parquet\"))\n",
    "    output_annotated_file = str(pathlib.Path(f\"{output_dir}/{plate}_bulk_annotated.parquet\"))\n",
    "    output_normalized_file = str(pathlib.Path(f\"{output_dir}/{plate}_bulk_normalized.parquet\"))\n",
    "    output_feature_select_file = str(pathlib.Path(f\"{output_dir}/{plate}_bulk_feature_selected.parquet\"))\n",
    "    \n",
    "    # Load single-cell profiles\n",
    "    single_cell_df = pd.read_parquet(info[\"dest_path\"])\n",
    "    \n",
    "    # Load platemap\n",
    "    platemap_df = pd.read_csv(info[\"platemap_path\"])\n",
    "\n",
    "    # Step 1: Aggregation\n",
    "    aggregate(\n",
    "        population_df=single_cell_df,\n",
    "        operation=\"median\",\n",
    "        strata=[\"Image_Metadata_Plate\", \"Image_Metadata_Well\"],\n",
    "        output_file=output_aggregated_file,\n",
    "        output_type=\"parquet\"\n",
    "    )\n",
    "    \n",
    "    # Step 2: Annotation\n",
    "    annotate(\n",
    "        profiles=output_aggregated_file,\n",
    "        platemap=platemap_df,\n",
    "        join_on=[\"Metadata_well_position\", \"Image_Metadata_Well\"],\n",
    "        output_file=output_annotated_file,\n",
    "        output_type=\"parquet\",\n",
    "    )\n",
    "    \n",
    "    # Step 3: Normalization\n",
    "    normalized_df = normalize(\n",
    "        profiles=output_annotated_file,\n",
    "        method=\"standardize\",\n",
    "        output_file=output_normalized_file,\n",
    "        output_type=\"parquet\",\n",
    "    )\n",
    "    \n",
    "    # Step 4: Feature selection\n",
    "    feature_select(\n",
    "        output_normalized_file,\n",
    "        operation=feature_select_ops,\n",
    "        output_file=output_feature_select_file,\n",
    "        output_type=\"parquet\"\n",
    "    )"
   ]
  },
  {
   "cell_type": "code",
   "execution_count": 5,
   "id": "4979678b-d0a0-40f8-b3e3-3ec5734ad8a7",
   "metadata": {},
   "outputs": [
    {
     "name": "stdout",
     "output_type": "stream",
     "text": [
      "(1, 7)\n"
     ]
    },
    {
     "data": {
      "text/html": [
       "<div>\n",
       "<style scoped>\n",
       "    .dataframe tbody tr th:only-of-type {\n",
       "        vertical-align: middle;\n",
       "    }\n",
       "\n",
       "    .dataframe tbody tr th {\n",
       "        vertical-align: top;\n",
       "    }\n",
       "\n",
       "    .dataframe thead th {\n",
       "        text-align: right;\n",
       "    }\n",
       "</style>\n",
       "<table border=\"1\" class=\"dataframe\">\n",
       "  <thead>\n",
       "    <tr style=\"text-align: right;\">\n",
       "      <th></th>\n",
       "      <th>Metadata_WellRow</th>\n",
       "      <th>Metadata_WellCol</th>\n",
       "      <th>Metadata_gene_name</th>\n",
       "      <th>Metadata_genotype</th>\n",
       "      <th>Metadata_seed_density</th>\n",
       "      <th>Metadata_Plate</th>\n",
       "      <th>Metadata_Well</th>\n",
       "    </tr>\n",
       "  </thead>\n",
       "  <tbody>\n",
       "    <tr>\n",
       "      <th>0</th>\n",
       "      <td>B</td>\n",
       "      <td>2</td>\n",
       "      <td>NF1</td>\n",
       "      <td>WT</td>\n",
       "      <td>1000</td>\n",
       "      <td>Plate_3</td>\n",
       "      <td>B2</td>\n",
       "    </tr>\n",
       "  </tbody>\n",
       "</table>\n",
       "</div>"
      ],
      "text/plain": [
       "  Metadata_WellRow  Metadata_WellCol Metadata_gene_name Metadata_genotype  \\\n",
       "0                B                 2                NF1                WT   \n",
       "\n",
       "   Metadata_seed_density Metadata_Plate Metadata_Well  \n",
       "0                   1000        Plate_3            B2  "
      ]
     },
     "execution_count": 5,
     "metadata": {},
     "output_type": "execute_result"
    }
   ],
   "source": [
    "# Check output file\n",
    "test_df = load_profiles(output_feature_select_file)\n",
    "\n",
    "print(test_df.shape)\n",
    "test_df.head(2)"
   ]
  }
 ],
 "metadata": {
  "kernelspec": {
   "display_name": "Python 3 (ipykernel)",
   "language": "python",
   "name": "python3"
  },
  "language_info": {
   "codemirror_mode": {
    "name": "ipython",
    "version": 3
   },
   "file_extension": ".py",
   "mimetype": "text/x-python",
   "name": "python",
   "nbconvert_exporter": "python",
   "pygments_lexer": "ipython3",
   "version": "3.9.18"
  }
 },
 "nbformat": 4,
 "nbformat_minor": 5
}
