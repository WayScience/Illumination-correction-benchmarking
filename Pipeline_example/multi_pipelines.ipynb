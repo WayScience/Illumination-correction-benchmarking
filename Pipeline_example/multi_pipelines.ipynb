{
 "cells": [
  {
   "cell_type": "code",
   "execution_count": 1,
   "metadata": {},
   "outputs": [],
   "source": [
    "# Modified Jenna's nf1_ic.ipynb file from the Cellpainting repo\n",
    "# https://github.com/WayScience/nf1_cellpainting_data/blob/main/1.cellprofiler_ic/nf1_ic.ipynb\n",
    "\n",
    "import pathlib\n",
    "import pprint\n",
    "import sys\n",
    "sys.path.append(\"../scripts/\")\n",
    "import cp_parallel"
   ]
  },
  {
   "cell_type": "code",
   "execution_count": 2,
   "metadata": {},
   "outputs": [
    {
     "name": "stdout",
     "output_type": "stream",
     "text": [
      "['Plate_1_pipeline_1', 'Plate_1_pipeline_2']\n"
     ]
    }
   ],
   "source": [
    "# set the run type for the parallelization\n",
    "run_name = \"illum_correction\"\n",
    "\n",
    "# set main output dir for all plates\n",
    "output_dir = pathlib.Path(\"/home/maggiekeating/Illumination-correction-benchmarking/Pipeline_example/Corrected_Images\")\n",
    "output_dir.mkdir(exist_ok=True)\n",
    "\n",
    "# directory where pipelines are located \n",
    "pipelines_dir = pathlib.Path(\"/home/maggiekeating/Illumination-correction-benchmarking/Pipeline_example/Pipelines/\")\n",
    "\n",
    "# list for pipeline names based on files to use to create dictionary\n",
    "pipeline_names = []\n",
    "\n",
    "# iterate through \"Pipelines\" and append pipline_names from file names\n",
    "for file_path in pathlib.Path(\"/home/maggiekeating/Illumination-correction-benchmarking/Pipeline_example/Pipelines/\").iterdir():\n",
    "    if str(file_path.stem).startswith(\"pipeline\"):\n",
    "        pipeline_names.append(str(file_path.stem))\n",
    "\n",
    "plate_run_names = []\n",
    "\n",
    "# iterate through \"test\" and append plate_run_names from folder name and corresponding pipeline name\n",
    "for file_path in pathlib.Path(\"/home/maggiekeating/Illumination-correction-benchmarking/Pipeline_example/data/test_plate/\").iterdir():\n",
    "    if str(file_path.stem).startswith(\"Plate\"):\n",
    "        for i in range(len(pipeline_names)):\n",
    "            plate_run_names.append(str(file_path.stem + \"_\" + pipeline_names[i]))\n",
    "\n",
    "print(plate_run_names)"
   ]
  },
  {
   "cell_type": "code",
   "execution_count": 3,
   "metadata": {},
   "outputs": [
    {
     "name": "stdout",
     "output_type": "stream",
     "text": [
      "{   'Plate_1_pipeline_1': {   'path_to_images': PosixPath('../data/test_plate/Plate_1'),\n",
      "                              'path_to_output': PosixPath('/home/maggiekeating/Illumination-correction-benchmarking/Pipeline_example/Corrected_Images/Corrected_Plate_1_pipeline_1'),\n",
      "                              'path_to_pipeline': PosixPath('../Pipelines/pipeline_1.cppipe')},\n",
      "    'Plate_1_pipeline_2': {   'path_to_images': PosixPath('../data/test_plate/Plate_1'),\n",
      "                              'path_to_output': PosixPath('/home/maggiekeating/Illumination-correction-benchmarking/Pipeline_example/Corrected_Images/Corrected_Plate_1_pipeline_2'),\n",
      "                              'path_to_pipeline': PosixPath('../Pipelines/pipeline_2.cppipe')}}\n"
     ]
    }
   ],
   "source": [
    "# create plate info dictionary with all parts of the CellProfiler CLI command to run in parallel\n",
    "plate_info_dictionary = {\n",
    "    name: {    \n",
    "        \"path_to_images\": pathlib.Path(f\"../data/test_plate/Plate_1/\"),\n",
    "        \"path_to_output\": pathlib.Path(f\"{output_dir}/Corrected_{name}\"),\n",
    "        }\n",
    "        for name in plate_run_names\n",
    "}\n",
    "# iterate over the dictionary and add the path_to_pipeline \n",
    "for name, info in plate_info_dictionary.items():\n",
    "        for i in range(len(plate_run_names)):\n",
    "            if name == \"Plate_1_\" + pipeline_names[i]:\n",
    "                info[\"path_to_pipeline\"] = pathlib.Path(f\"../Pipelines/\" + pipeline_names[i]+ \".cppipe\")\n",
    "\n",
    "# view the dictionary to assess that all info is added correctly\n",
    "pprint.pprint(plate_info_dictionary, indent=4)"
   ]
  },
  {
   "cell_type": "code",
   "execution_count": 4,
   "metadata": {},
   "outputs": [
    {
     "name": "stdout",
     "output_type": "stream",
     "text": [
      "All processes have been completed!\n",
      "All results have been converted to log files!\n"
     ]
    }
   ],
   "source": [
    "cp_parallel.run_cellprofiler_parallel(\n",
    "    plate_info_dictionary=plate_info_dictionary, run_name=run_name\n",
    ")"
   ]
  }
 ],
 "metadata": {
  "kernelspec": {
   "display_name": "IC_bench_4.2.6",
   "language": "python",
   "name": "python3"
  },
  "language_info": {
   "codemirror_mode": {
    "name": "ipython",
    "version": 3
   },
   "file_extension": ".py",
   "mimetype": "text/x-python",
   "name": "python",
   "nbconvert_exporter": "python",
   "pygments_lexer": "ipython3",
   "version": "3.9.18"
  }
 },
 "nbformat": 4,
 "nbformat_minor": 2
}
