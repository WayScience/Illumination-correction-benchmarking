{
 "cells": [
  {
   "cell_type": "code",
   "execution_count": 16,
   "metadata": {},
   "outputs": [
    {
     "ename": "TypeError",
     "evalue": "write() argument must be str, not _io.TextIOWrapper",
     "output_type": "error",
     "traceback": [
      "\u001b[0;31m---------------------------------------------------------------------------\u001b[0m",
      "\u001b[0;31mTypeError\u001b[0m                                 Traceback (most recent call last)",
      "Cell \u001b[0;32mIn[16], line 9\u001b[0m\n\u001b[1;32m      6\u001b[0m data \u001b[38;5;241m=\u001b[39m f\u001b[38;5;241m.\u001b[39mread\n\u001b[1;32m      7\u001b[0m f1 \u001b[38;5;241m=\u001b[39m \u001b[38;5;28mopen\u001b[39m(\u001b[38;5;124m\"\u001b[39m\u001b[38;5;124mnew.txt\u001b[39m\u001b[38;5;124m\"\u001b[39m, \u001b[38;5;124m\"\u001b[39m\u001b[38;5;124mx\u001b[39m\u001b[38;5;124m\"\u001b[39m)\n\u001b[0;32m----> 9\u001b[0m \u001b[43mf1\u001b[49m\u001b[38;5;241;43m.\u001b[39;49m\u001b[43mwrite\u001b[49m\u001b[43m(\u001b[49m\u001b[43mf\u001b[49m\u001b[43m)\u001b[49m\n\u001b[1;32m     10\u001b[0m \u001b[38;5;66;03m#os.remove(\"file.txt\")\u001b[39;00m\n\u001b[1;32m     11\u001b[0m os\u001b[38;5;241m.\u001b[39mrename(\u001b[38;5;124m\"\u001b[39m\u001b[38;5;124mnew.txt\u001b[39m\u001b[38;5;124m\"\u001b[39m, \u001b[38;5;124m\"\u001b[39m\u001b[38;5;124mfile.txt\u001b[39m\u001b[38;5;124m\"\u001b[39m)\n",
      "\u001b[0;31mTypeError\u001b[0m: write() argument must be str, not _io.TextIOWrapper"
     ]
    }
   ],
   "source": [
    "\n",
    "# Program to replace text in a file\n",
    "import os\n",
    "search_text = \"IC_function_1\"\n",
    "replace_text = \"IC_function_2\"\n",
    "f = open(\"/home/maggiekeating/Illumination-correction-benchmarking/2.cellprofiler_analysis/pipelines/exclusion_seg_pipeline.txt\")\n",
    "data = f.read\n",
    "f1 = open(\"new.txt\", \"x\")\n",
    " \n",
    "f1.write(f)\n",
    "#os.remove(\"file.txt\")\n",
    "os.rename(\"new.txt\", \"file.txt\")\n",
    "f1.close()\n",
    " \n",
    "\n"
   ]
  },
  {
   "cell_type": "code",
   "execution_count": 29,
   "metadata": {},
   "outputs": [
    {
     "ename": "UnsupportedOperation",
     "evalue": "not readable",
     "output_type": "error",
     "traceback": [
      "\u001b[0;31m---------------------------------------------------------------------------\u001b[0m",
      "\u001b[0;31mUnsupportedOperation\u001b[0m                      Traceback (most recent call last)",
      "Cell \u001b[0;32mIn[29], line 9\u001b[0m\n\u001b[1;32m      7\u001b[0m new_file \u001b[38;5;241m=\u001b[39m \u001b[38;5;28mopen\u001b[39m(\u001b[38;5;124m\"\u001b[39m\u001b[38;5;124mnew.txt\u001b[39m\u001b[38;5;124m\"\u001b[39m, \u001b[38;5;124m\"\u001b[39m\u001b[38;5;124mx\u001b[39m\u001b[38;5;124m\"\u001b[39m)\n\u001b[1;32m      8\u001b[0m new_file\u001b[38;5;241m.\u001b[39mwrite(data)\n\u001b[0;32m----> 9\u001b[0m texts \u001b[38;5;241m=\u001b[39m \u001b[43mnew_file\u001b[49m\u001b[38;5;241;43m.\u001b[39;49m\u001b[43mread\u001b[49m\u001b[43m(\u001b[49m\u001b[43m)\u001b[49m\n\u001b[1;32m     10\u001b[0m texts \u001b[38;5;241m=\u001b[39m new_file\u001b[38;5;241m.\u001b[39mreplace(\u001b[38;5;124m'\u001b[39m\u001b[38;5;124mIC_function_1\u001b[39m\u001b[38;5;124m'\u001b[39m,\u001b[38;5;124m'\u001b[39m\u001b[38;5;124mIC_function_2\u001b[39m\u001b[38;5;124m'\u001b[39m)\n\u001b[1;32m     11\u001b[0m \u001b[38;5;66;03m#new_file.replace('IC_function_1','IC_function_2')\u001b[39;00m\n\u001b[1;32m     12\u001b[0m \n\u001b[1;32m     13\u001b[0m \n\u001b[1;32m     14\u001b[0m \n\u001b[1;32m     15\u001b[0m \u001b[38;5;66;03m#new_file.write(data.replace(search_text, replace_text))\u001b[39;00m\n",
      "\u001b[0;31mUnsupportedOperation\u001b[0m: not readable"
     ]
    }
   ],
   "source": [
    "import os \n",
    "search_text = \"IC_function_1\"\n",
    "replace_text = \"IC_function_2\"\n",
    "\n",
    "with open(r'/home/maggiekeating/Illumination-correction-benchmarking/2.cellprofiler_analysis/pipelines/exclusion_seg_pipeline.cppipe', 'r') as file:\n",
    "    data = file.read()\n",
    "    new_file = open(\"new.txt\", \"x\")\n",
    "    new_file.write(data)\n",
    "   \n",
    "with open(\"new.txt\", \"w\")\n",
    "\n",
    "\n",
    "\n"
   ]
  },
  {
   "cell_type": "code",
   "execution_count": null,
   "metadata": {},
   "outputs": [],
   "source": [
    "import re\n",
    "\n",
    "\n",
    "\n",
    "def regex_search_and_replace(file_path, search_pattern, replace_pattern):\n",
    "   with open(file_path, 'r') as file:\n",
    "      file_contents = file.read()\n",
    "\n",
    "      updated_contents = re.sub(search_pattern, replace_pattern, file_contents)\n",
    "\n",
    "   with open(file_path, 'w') as file:\n",
    "      file.write(updated_contents)\n",
    "\n",
    "# Example usage\n",
    "file_path = 'example.txt'\n",
    "search_pattern = r'\\b(\\d+)\\b'\n",
    "replace_pattern = r'[\\1]'\n",
    "regex_search_and_replace(file_path, search_pattern, replace_pattern)"
   ]
  }
 ],
 "metadata": {
  "kernelspec": {
   "display_name": "IC_bench_4.2.6",
   "language": "python",
   "name": "python3"
  },
  "language_info": {
   "codemirror_mode": {
    "name": "ipython",
    "version": 3
   },
   "file_extension": ".py",
   "mimetype": "text/x-python",
   "name": "python",
   "nbconvert_exporter": "python",
   "pygments_lexer": "ipython3",
   "version": "3.9.18"
  }
 },
 "nbformat": 4,
 "nbformat_minor": 2
}
