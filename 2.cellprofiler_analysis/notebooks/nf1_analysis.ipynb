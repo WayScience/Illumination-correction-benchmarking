{
 "cells": [
  {
   "attachments": {},
   "cell_type": "markdown",
   "metadata": {},
   "source": [
    "# Perform segmentation and feature extraction for each plate using CellProfiler Parallel"
   ]
  },
  {
   "attachments": {},
   "cell_type": "markdown",
   "metadata": {},
   "source": [
    "## Import libraries"
   ]
  },
  {
   "cell_type": "code",
   "execution_count": 5,
   "metadata": {},
   "outputs": [],
   "source": [
    "# Modified Jenna's nf1_ic.ipynb file from the Cellpainting repo\n",
    "# https://github.com/WayScience/nf1_cellpainting_data/blob/main/2.cellprofiler_analysis/nf1_analysis.ipynb\n",
    "\n",
    "import pathlib\n",
    "import pprint\n",
    "\n",
    "import sys\n",
    "\n",
    "sys.path.append(\"../../utils\")\n",
    "import cp_parallel"
   ]
  },
  {
   "attachments": {},
   "cell_type": "markdown",
   "metadata": {},
   "source": [
    "## Set paths and variables"
   ]
  },
  {
   "cell_type": "code",
   "execution_count": 7,
   "metadata": {},
   "outputs": [
    {
     "name": "stdout",
     "output_type": "stream",
     "text": [
      "['Plate_3_prime_sub_IC_function_1', 'Plate_3_prime_sub_IC_function_2']\n"
     ]
    }
   ],
   "source": [
    "# set the run type for the parallelization\n",
    "run_name = \"analysis\"\n",
    "\n",
    "# set main output dir for all plates\n",
    "output_dir = pathlib.Path(\"../outputs/SQLites\")\n",
    "output_dir.mkdir(exist_ok=True)\n",
    "\n",
    "# directory where images are located within folders\n",
    "images_dir = pathlib.Path(\"../../1.run_multi_IC_pipelines/data/test_plate/Plate_3_prime_sub\")\n",
    "\n",
    "# list for IC function names based on files to use to create dictionary\n",
    "IC_function_names = []\n",
    "\n",
    "# iterate through \"IC_functions\" and append IC_function_names from file names\n",
    "for file_path in pathlib.Path(\"../../1.run_multi_IC_pipelines/data/test_plate/Plate_3_prime_sub\").iterdir():\n",
    "    if str(file_path.stem).startswith(\"IC_function\"):\n",
    "        IC_function_names.append(str(file_path.stem))\n",
    "\n",
    "plate_run_names = []\n",
    "\n",
    "# iterate through \"test_plate\" and append plate_run_names from folder name and corresponding IC function\n",
    "for file_path in pathlib.Path(\"../../1.run_multi_IC_pipelines/data/test_plate\").iterdir():\n",
    "    if str(file_path.stem).startswith(\"Plate\"):\n",
    "        for i in range(len(IC_function_names)):\n",
    "            plate_run_names.append(str(file_path.stem + \"_\" + IC_function_names[i]))\n",
    "\n",
    "print(plate_run_names)"
   ]
  },
  {
   "cell_type": "markdown",
   "metadata": {},
   "source": [
    "## Create dictionary with all info for each plate"
   ]
  },
  {
   "cell_type": "code",
   "execution_count": 8,
   "metadata": {},
   "outputs": [
    {
     "name": "stdout",
     "output_type": "stream",
     "text": [
      "{   'Plate_3_prime_sub_IC_function_1': {   'path_to_images': PosixPath('../../1.run_multi_IC_pipelines/data/test_plate/Plate_3_prime_sub'),\n",
      "                                           'path_to_output': PosixPath('../outputs/SQLites/Plate_3_prime_sub_IC_function_1_analysis'),\n",
      "                                           'path_to_pipeline': PosixPath('../pipelines/WORKING_current_test.cppipe')},\n",
      "    'Plate_3_prime_sub_IC_function_2': {   'path_to_images': PosixPath('../../1.run_multi_IC_pipelines/data/test_plate/Plate_3_prime_sub'),\n",
      "                                           'path_to_output': PosixPath('../outputs/SQLites/Plate_3_prime_sub_IC_function_2_analysis'),\n",
      "                                           'path_to_pipeline': PosixPath('../pipelines/WORKING_current_test.cppipe')}}\n"
     ]
    }
   ],
   "source": [
    "# create plate info dictionary with all parts of the CellProfiler CLI command to run in parallel\n",
    "plate_info_dictionary = {\n",
    "    name: {\n",
    "        #\"path_to_images\": pathlib.Path(f\"../../1.run_multi_IC_pipelines/data/test_plate/Plate_3_prime_sub\"),\n",
    "        \"path_to_output\": pathlib.Path(f\"{output_dir}/{name}_analysis\"),\n",
    "        \"path_to_pipeline\": pathlib.Path(f\"../pipelines/WORKING_current_test.cppipe\")\n",
    "    }\n",
    "    for name in plate_run_names\n",
    "}\n",
    "\n",
    "# iterate over the dictionary and add the path_to_images\n",
    "for name, info in plate_info_dictionary.items():\n",
    "        for i in range(len(plate_run_names)):\n",
    "            images_list = []\n",
    "            for file_path in pathlib.Path(\"../../1.run_multi_IC_pipelines/data/test_plate/Plate_3_prime_sub\").iterdir():\n",
    "                if str(file_path.stem).startswith(\"IC_function\"):\n",
    "                    IC_function_names.append(str(file_path.stem))\n",
    "\n",
    "\n",
    "\n",
    "            if name == \"Plate_3_prime_sub_\" + IC_function_names[i]:\n",
    "                info[\"path_to_pipeline\"] = pathlib.Path(f\"../../1.run_multi_IC_pipelines/data/test_plate/Plate_3_prime_sub\" + IC_function_names[i])\n",
    "\n",
    "\n",
    "# view the dictionary to assess that all info is added correctly\n",
    "pprint.pprint(plate_info_dictionary, indent=4)"
   ]
  },
  {
   "attachments": {},
   "cell_type": "markdown",
   "metadata": {},
   "source": [
    "## Run analysis pipeline on each plate in parallel\n",
    "\n",
    "This cell is not finished to completion due to how long it would take. It is ran in the python file instead."
   ]
  },
  {
   "cell_type": "code",
   "execution_count": 4,
   "metadata": {},
   "outputs": [
    {
     "name": "stdout",
     "output_type": "stream",
     "text": [
      "All processes have been completed!\n",
      "A return code of 1 was returned for Plate_3_prime_sub_IC_function_1_analysis, which means there was an error in the CellProfiler run.\n",
      "A return code of 1 was returned for Plate_3_prime_sub_IC_function_2_analysis, which means there was an error in the CellProfiler run.\n",
      "All results have been converted to log files!\n"
     ]
    }
   ],
   "source": [
    "cp_parallel.run_cellprofiler_parallel(\n",
    "    plate_info_dictionary=plate_info_dictionary, run_name=run_name\n",
    ")"
   ]
  }
 ],
 "metadata": {
  "kernelspec": {
   "display_name": "nf1_cellpainting_data",
   "language": "python",
   "name": "python3"
  },
  "language_info": {
   "codemirror_mode": {
    "name": "ipython",
    "version": 3
   },
   "file_extension": ".py",
   "mimetype": "text/x-python",
   "name": "python",
   "nbconvert_exporter": "python",
   "pygments_lexer": "ipython3",
   "version": "3.9.18"
  },
  "orig_nbformat": 4
 },
 "nbformat": 4,
 "nbformat_minor": 2
}
