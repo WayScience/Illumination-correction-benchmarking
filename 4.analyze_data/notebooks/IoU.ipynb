{
 "cells": [
  {
   "cell_type": "markdown",
   "metadata": {},
   "source": [
    "## Perform Intersection over Union (IoU) analysis on object masks "
   ]
  },
  {
   "cell_type": "code",
   "execution_count": 1,
   "metadata": {},
   "outputs": [],
   "source": [
    "# iou function from stackoverflow user gil.fernandes\n",
    "# https://stackoverflow.com/questions/66595055/fastest-way-of-computing-binary-mask-iou-with-numpy\n",
    "\n",
    "import torch\n",
    "import cv2"
   ]
  },
  {
   "cell_type": "code",
   "execution_count": 2,
   "metadata": {},
   "outputs": [
    {
     "name": "stdout",
     "output_type": "stream",
     "text": [
      "tensor(1.)\n"
     ]
    }
   ],
   "source": [
    "# Intersection over Union function (IoU) utilizing ground truth (gt) and test binary masks \n",
    "def iou(gt: torch.Tensor, test: torch.Tensor):\n",
    "    '''\n",
    "    Takes in the ground truth (gt) and test images as binary masks. \n",
    "    Returns the Intersection over Union (IoU) value. \n",
    "    An IoU close to 1 reflects high overlap between the ground truth and test binary masks. \n",
    "    An IoU close to 0 refelcts little overlap between the ground truth and test binary masks\n",
    "    '''\n",
    "    \n",
    "    intersection = (gt * test).sum()\n",
    "    if intersection == 0:\n",
    "        return 0.0\n",
    "    union = torch.logical_or(gt, test).to(torch.int).sum()\n",
    "    return intersection / union \n",
    "\n",
    "# Read binary masks \n",
    "mask1 = cv2.imread('/home/maggiekeating/M1_B1_01_1_2_DAPI_001_nuclei_mask.tiff', 0)\n",
    "mask2 = cv2.imread('/home/maggiekeating/M2_B1_01_1_2_DAPI_001_nuclei_mask.tiff', 0)\n",
    "\n",
    "# Convert binary masks from numpy ndarray to pytorch tensor \n",
    "mask1_conv = torch.from_numpy(mask1)\n",
    "mask2_conv = torch.from_numpy(mask2)\n",
    "\n",
    "print(iou(mask1_conv, mask2_conv))"
   ]
  }
 ],
 "metadata": {
  "kernelspec": {
   "display_name": "IC_bench_4.2.6",
   "language": "python",
   "name": "python3"
  },
  "language_info": {
   "codemirror_mode": {
    "name": "ipython",
    "version": 3
   },
   "file_extension": ".py",
   "mimetype": "text/x-python",
   "name": "python",
   "nbconvert_exporter": "python",
   "pygments_lexer": "ipython3",
   "version": "3.9.18"
  }
 },
 "nbformat": 4,
 "nbformat_minor": 2
}
