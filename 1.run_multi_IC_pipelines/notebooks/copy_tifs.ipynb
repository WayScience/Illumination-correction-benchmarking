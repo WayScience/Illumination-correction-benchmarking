{
 "cells": [
  {
   "cell_type": "code",
   "execution_count": 24,
   "metadata": {},
   "outputs": [
    {
     "name": "stdout",
     "output_type": "stream",
     "text": [
      "Copied\n"
     ]
    }
   ],
   "source": [
    "import shutil\n",
    "\n",
    "# make a list containing the tif name for each well \n",
    "# iterate through the list to copy over the correct images\n",
    "\n",
    "\n",
    "src_path = r\"1.run_multi_IC_pipelines/data/plate_3_prime/B1_01_1_1_DAPI_001.tif\"\n",
    "dst_path = r\"/home/maggiekeating/Illumination-correction-benchmarking/1.run_multi_IC_pipelines/data/plate_3_prime_selected_subset\"\n",
    "shutil.copy(src_path, dst_path)\n",
    "print('Copied')"
   ]
  }
 ],
 "metadata": {
  "kernelspec": {
   "display_name": "IC_bench_4.2.6",
   "language": "python",
   "name": "python3"
  },
  "language_info": {
   "codemirror_mode": {
    "name": "ipython",
    "version": 3
   },
   "file_extension": ".py",
   "mimetype": "text/x-python",
   "name": "python",
   "nbconvert_exporter": "python",
   "pygments_lexer": "ipython3",
   "version": "3.9.18"
  }
 },
 "nbformat": 4,
 "nbformat_minor": 2
}
